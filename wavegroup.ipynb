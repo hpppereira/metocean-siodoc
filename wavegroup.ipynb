{
 "cells": [
  {
   "cell_type": "markdown",
   "metadata": {},
   "source": [
    "Calcula parametros de grupo SIODOC"
   ]
  },
  {
   "cell_type": "code",
   "execution_count": 89,
   "metadata": {},
   "outputs": [
    {
     "data": {
      "text/plain": [
       "<module 'waveplot' from '/home/hp/git/ocean-wave/waveplot.py'>"
      ]
     },
     "execution_count": 89,
     "metadata": {},
     "output_type": "execute_result"
    }
   ],
   "source": [
    "import sys\n",
    "import numpy as np\n",
    "import pandas as pd\n",
    "import scipy.io\n",
    "from datetime import datetime\n",
    "from importlib import reload\n",
    "import warnings\n",
    "sys.path.append('/home/hp/git/ocean-wave')\n",
    "import buoys\n",
    "import waveproc\n",
    "# import wavegroup\n",
    "import wavespread\n",
    "import waveplot\n",
    "import matplotlib.pyplot as plt\n",
    "reload(buoys)\n",
    "reload(waveproc)\n",
    "# reload(wavegroup)\n",
    "reload(wavespread)\n",
    "reload(waveplot)"
   ]
  },
  {
   "cell_type": "code",
   "execution_count": 66,
   "metadata": {},
   "outputs": [
    {
     "data": {
      "text/html": [
       "<div>\n",
       "<style scoped>\n",
       "    .dataframe tbody tr th:only-of-type {\n",
       "        vertical-align: middle;\n",
       "    }\n",
       "\n",
       "    .dataframe tbody tr th {\n",
       "        vertical-align: top;\n",
       "    }\n",
       "\n",
       "    .dataframe thead th {\n",
       "        text-align: right;\n",
       "    }\n",
       "</style>\n",
       "<table border=\"1\" class=\"dataframe\">\n",
       "  <thead>\n",
       "    <tr style=\"text-align: right;\">\n",
       "      <th></th>\n",
       "      <th>0</th>\n",
       "      <th>1</th>\n",
       "      <th>2</th>\n",
       "      <th>3</th>\n",
       "      <th>4</th>\n",
       "      <th>5</th>\n",
       "      <th>6</th>\n",
       "      <th>7</th>\n",
       "      <th>8</th>\n",
       "      <th>9</th>\n",
       "      <th>...</th>\n",
       "      <th>1014</th>\n",
       "      <th>1015</th>\n",
       "      <th>1016</th>\n",
       "      <th>1017</th>\n",
       "      <th>1018</th>\n",
       "      <th>1019</th>\n",
       "      <th>1020</th>\n",
       "      <th>1021</th>\n",
       "      <th>1022</th>\n",
       "      <th>1023</th>\n",
       "    </tr>\n",
       "    <tr>\n",
       "      <th>date</th>\n",
       "      <th></th>\n",
       "      <th></th>\n",
       "      <th></th>\n",
       "      <th></th>\n",
       "      <th></th>\n",
       "      <th></th>\n",
       "      <th></th>\n",
       "      <th></th>\n",
       "      <th></th>\n",
       "      <th></th>\n",
       "      <th></th>\n",
       "      <th></th>\n",
       "      <th></th>\n",
       "      <th></th>\n",
       "      <th></th>\n",
       "      <th></th>\n",
       "      <th></th>\n",
       "      <th></th>\n",
       "      <th></th>\n",
       "      <th></th>\n",
       "      <th></th>\n",
       "    </tr>\n",
       "  </thead>\n",
       "  <tbody>\n",
       "    <tr>\n",
       "      <th>2014-07-16 16:00:00</th>\n",
       "      <td>-0.2344</td>\n",
       "      <td>0.0000</td>\n",
       "      <td>0.0781</td>\n",
       "      <td>0.0781</td>\n",
       "      <td>0.0781</td>\n",
       "      <td>0.1563</td>\n",
       "      <td>0.1563</td>\n",
       "      <td>0.0781</td>\n",
       "      <td>-0.2344</td>\n",
       "      <td>-0.4688</td>\n",
       "      <td>...</td>\n",
       "      <td>0.0000</td>\n",
       "      <td>0.3125</td>\n",
       "      <td>0.2344</td>\n",
       "      <td>-0.0781</td>\n",
       "      <td>-0.3906</td>\n",
       "      <td>-0.3125</td>\n",
       "      <td>0.0000</td>\n",
       "      <td>0.4688</td>\n",
       "      <td>0.4688</td>\n",
       "      <td>0.0781</td>\n",
       "    </tr>\n",
       "    <tr>\n",
       "      <th>2014-07-16 17:00:00</th>\n",
       "      <td>0.0000</td>\n",
       "      <td>0.0781</td>\n",
       "      <td>-0.1563</td>\n",
       "      <td>-0.0781</td>\n",
       "      <td>-0.3125</td>\n",
       "      <td>0.0000</td>\n",
       "      <td>0.3906</td>\n",
       "      <td>0.4688</td>\n",
       "      <td>0.3125</td>\n",
       "      <td>-0.4688</td>\n",
       "      <td>...</td>\n",
       "      <td>-0.3125</td>\n",
       "      <td>-0.1563</td>\n",
       "      <td>0.3125</td>\n",
       "      <td>0.3125</td>\n",
       "      <td>0.0000</td>\n",
       "      <td>-0.0781</td>\n",
       "      <td>-0.2344</td>\n",
       "      <td>0.0781</td>\n",
       "      <td>0.1563</td>\n",
       "      <td>0.0781</td>\n",
       "    </tr>\n",
       "    <tr>\n",
       "      <th>2014-07-16 18:00:00</th>\n",
       "      <td>0.0781</td>\n",
       "      <td>0.6250</td>\n",
       "      <td>0.7031</td>\n",
       "      <td>0.3125</td>\n",
       "      <td>-0.3125</td>\n",
       "      <td>-0.7031</td>\n",
       "      <td>-0.2344</td>\n",
       "      <td>0.1563</td>\n",
       "      <td>0.3125</td>\n",
       "      <td>0.0000</td>\n",
       "      <td>...</td>\n",
       "      <td>0.7813</td>\n",
       "      <td>0.4688</td>\n",
       "      <td>0.0781</td>\n",
       "      <td>-0.1563</td>\n",
       "      <td>-0.3125</td>\n",
       "      <td>-0.3125</td>\n",
       "      <td>-0.0781</td>\n",
       "      <td>-0.1563</td>\n",
       "      <td>-0.2344</td>\n",
       "      <td>0.0781</td>\n",
       "    </tr>\n",
       "  </tbody>\n",
       "</table>\n",
       "<p>3 rows × 1024 columns</p>\n",
       "</div>"
      ],
      "text/plain": [
       "                       0       1       2       3       4       5       6     \\\n",
       "date                                                                          \n",
       "2014-07-16 16:00:00 -0.2344  0.0000  0.0781  0.0781  0.0781  0.1563  0.1563   \n",
       "2014-07-16 17:00:00  0.0000  0.0781 -0.1563 -0.0781 -0.3125  0.0000  0.3906   \n",
       "2014-07-16 18:00:00  0.0781  0.6250  0.7031  0.3125 -0.3125 -0.7031 -0.2344   \n",
       "\n",
       "                       7       8       9     ...    1014    1015    1016  \\\n",
       "date                                         ...                           \n",
       "2014-07-16 16:00:00  0.0781 -0.2344 -0.4688  ...  0.0000  0.3125  0.2344   \n",
       "2014-07-16 17:00:00  0.4688  0.3125 -0.4688  ... -0.3125 -0.1563  0.3125   \n",
       "2014-07-16 18:00:00  0.1563  0.3125  0.0000  ...  0.7813  0.4688  0.0781   \n",
       "\n",
       "                       1017    1018    1019    1020    1021    1022    1023  \n",
       "date                                                                         \n",
       "2014-07-16 16:00:00 -0.0781 -0.3906 -0.3125  0.0000  0.4688  0.4688  0.0781  \n",
       "2014-07-16 17:00:00  0.3125  0.0000 -0.0781 -0.2344  0.0781  0.1563  0.0781  \n",
       "2014-07-16 18:00:00 -0.1563 -0.3125 -0.3125 -0.0781 -0.1563 -0.2344  0.0781  \n",
       "\n",
       "[3 rows x 1024 columns]"
      ]
     },
     "execution_count": 66,
     "metadata": {},
     "output_type": "execute_result"
    }
   ],
   "source": [
    "heave_mat = scipy.io.loadmat('./dados/heave.mat')\n",
    "\n",
    "#  0    1    2    3     4    5  \n",
    "# ano, mes, dia, hora, min, seg\n",
    "data1 = heave_mat['heave'][:,[0,1,2,3,4,5]]\n",
    "data2 = [datetime(int(data1[i,0]),int(data1[i,1]),int(data1[i,2]),\n",
    "         int(data1[i,3])) for i in range(len(data1))]\n",
    "\n",
    "mat_n1 = pd.DataFrame(heave_mat['heave'][:,6:], index=data2)\n",
    "mat_n1.index.name = 'date'\n",
    "mat_n1.head(3)"
   ]
  },
  {
   "cell_type": "code",
   "execution_count": 96,
   "metadata": {},
   "outputs": [],
   "source": [
    "# plotagem das series temporais\n",
    "\n",
    "for i in range(len(mat_n1)):\n",
    "    n1 = mat_n1.iloc[i, :]\n",
    "\n",
    "    datet = mat_n1.index[i]\n",
    "\n",
    "    cc, pp, tt = waveproc.waveproc(t=n1.index.values,\n",
    "                                    s1=n1.values,\n",
    "                                    s2=[],\n",
    "                                    s3=[],\n",
    "                                    Fs=1.0, NFFT=128)\n",
    "\n",
    "    fig = waveplot.serie_espectro(t=n1.index,\n",
    "                                  heave=n1.values,\n",
    "                                  freq=cc.index,\n",
    "                                  espec=cc.c11.values,\n",
    "                                  hs=pp.hs.values[0],\n",
    "                                  hmax=pp.hmax.values[0],\n",
    "                                  tp=pp.tp.values[0],\n",
    "                                  dp='-',\n",
    "                                  date=datet)\n",
    "\n",
    "    fig.savefig('./figuras/serie_espec/serie_espec_{}.png'.format(datet.strftime('%Y%m%d%H')))\n",
    "    plt.close('all')"
   ]
  },
  {
   "cell_type": "code",
   "execution_count": 85,
   "metadata": {},
   "outputs": [
    {
     "data": {
      "text/plain": [
       "Timestamp('2014-07-16 16:00:00')"
      ]
     },
     "execution_count": 85,
     "metadata": {},
     "output_type": "execute_result"
    }
   ],
   "source": []
  },
  {
   "cell_type": "code",
   "execution_count": 74,
   "metadata": {},
   "outputs": [
    {
     "data": {
      "text/plain": [
       "[<matplotlib.lines.Line2D at 0x7f97ce1510d0>]"
      ]
     },
     "execution_count": 74,
     "metadata": {},
     "output_type": "execute_result"
    },
    {
     "data": {
      "image/png": "[encoded data removed]",
      "text/plain": [
       "<Figure size 640x480 with 1 Axes>"
      ]
     },
     "metadata": {},
     "output_type": "display_data"
    }
   ],
   "source": [
    "plt.plot(cc.index, cc.c11)"
   ]
  }
 ],
 "metadata": {
  "kernelspec": {
   "display_name": "base",
   "language": "python",
   "name": "python3"
  },
  "language_info": {
   "codemirror_mode": {
    "name": "ipython",
    "version": 3
   },
   "file_extension": ".py",
   "mimetype": "text/x-python",
   "name": "python",
   "nbconvert_exporter": "python",
   "pygments_lexer": "ipython3",
   "version": "3.11.5"
  }
 },
 "nbformat": 4,
 "nbformat_minor": 2
}
